{
  "nbformat": 4,
  "nbformat_minor": 0,
  "metadata": {
    "colab": {
      "provenance": [],
      "collapsed_sections": [
        "J-h1leneKaKS",
        "DwmPNM7eKc7e"
      ],
      "authorship_tag": "ABX9TyMVZiK7QdUa/PP01ekeK2DU",
      "include_colab_link": true
    },
    "kernelspec": {
      "name": "python3",
      "display_name": "Python 3"
    },
    "language_info": {
      "name": "python"
    }
  },
  "cells": [
    {
      "cell_type": "markdown",
      "metadata": {
        "id": "view-in-github",
        "colab_type": "text"
      },
      "source": [
        "<a href=\"https://colab.research.google.com/github/VadimSV08/myprojects/blob/main/Application%20of%20ML%20models%20for%20iris%20dataframe/ML_models_iris.ipynb\" target=\"_parent\"><img src=\"https://colab.research.google.com/assets/colab-badge.svg\" alt=\"Open In Colab\"/></a>"
      ]
    },
    {
      "cell_type": "markdown",
      "source": [
        "# Импорт библиотек"
      ],
      "metadata": {
        "id": "J-h1leneKaKS"
      }
    },
    {
      "cell_type": "code",
      "source": [
        "# Импорт библиотек\n",
        "import numpy as np # linear algebra\n",
        "import pandas as pd # data processing, CSV file I/O (e.g. pd.read_csv)\n",
        "import seaborn as sns\n",
        "import matplotlib.pyplot as plt\n",
        "\n",
        "# Чтение датасета из файла csv\n",
        "!gdown --id 1vYRrRhMNhIRfJysuOva1BJXk_1N2_J1J\n",
        "df = pd.read_csv('iris.csv')"
      ],
      "metadata": {
        "id": "sY8uY9_vzPUG",
        "colab": {
          "base_uri": "https://localhost:8080/"
        },
        "outputId": "dfb65216-437c-47ca-e15e-869238bef4c6"
      },
      "execution_count": 1,
      "outputs": [
        {
          "output_type": "stream",
          "name": "stdout",
          "text": [
            "/usr/local/lib/python3.7/dist-packages/gdown/cli.py:131: FutureWarning: Option `--id` was deprecated in version 4.3.1 and will be removed in 5.0. You don't need to pass it anymore to use a file ID.\n",
            "  category=FutureWarning,\n",
            "Downloading...\n",
            "From: https://drive.google.com/uc?id=1vYRrRhMNhIRfJysuOva1BJXk_1N2_J1J\n",
            "To: /content/iris.csv\n",
            "100% 3.26k/3.26k [00:00<00:00, 3.48MB/s]\n"
          ]
        }
      ]
    },
    {
      "cell_type": "markdown",
      "source": [
        "# Первичный взгляд на датафрейм"
      ],
      "metadata": {
        "id": "DwmPNM7eKc7e"
      }
    },
    {
      "cell_type": "code",
      "source": [
        "df.head()"
      ],
      "metadata": {
        "id": "HCQ-OrFd9UVS",
        "colab": {
          "base_uri": "https://localhost:8080/",
          "height": 0
        },
        "outputId": "8cf17957-cc40-4339-dad5-dc35f2297ea7"
      },
      "execution_count": 2,
      "outputs": [
        {
          "output_type": "execute_result",
          "data": {
            "text/plain": [
              "   Id  SepalLengthCm  SepalWidthCm  PetalLengthCm  PetalWidthCm  Species\n",
              "0   1            5.1           3.5            1.4           0.2        0\n",
              "1   2            4.9           3.0            1.4           0.2        0\n",
              "2   3            4.7           3.2            1.3           0.2        0\n",
              "3   4            4.6           3.1            1.5           0.2        0\n",
              "4   5            5.0           3.6            1.4           0.2        0"
            ],
            "text/html": [
              "\n",
              "  <div id=\"df-c82b4875-2a4f-4fb7-9f10-3c3dd37c4cde\">\n",
              "    <div class=\"colab-df-container\">\n",
              "      <div>\n",
              "<style scoped>\n",
              "    .dataframe tbody tr th:only-of-type {\n",
              "        vertical-align: middle;\n",
              "    }\n",
              "\n",
              "    .dataframe tbody tr th {\n",
              "        vertical-align: top;\n",
              "    }\n",
              "\n",
              "    .dataframe thead th {\n",
              "        text-align: right;\n",
              "    }\n",
              "</style>\n",
              "<table border=\"1\" class=\"dataframe\">\n",
              "  <thead>\n",
              "    <tr style=\"text-align: right;\">\n",
              "      <th></th>\n",
              "      <th>Id</th>\n",
              "      <th>SepalLengthCm</th>\n",
              "      <th>SepalWidthCm</th>\n",
              "      <th>PetalLengthCm</th>\n",
              "      <th>PetalWidthCm</th>\n",
              "      <th>Species</th>\n",
              "    </tr>\n",
              "  </thead>\n",
              "  <tbody>\n",
              "    <tr>\n",
              "      <th>0</th>\n",
              "      <td>1</td>\n",
              "      <td>5.1</td>\n",
              "      <td>3.5</td>\n",
              "      <td>1.4</td>\n",
              "      <td>0.2</td>\n",
              "      <td>0</td>\n",
              "    </tr>\n",
              "    <tr>\n",
              "      <th>1</th>\n",
              "      <td>2</td>\n",
              "      <td>4.9</td>\n",
              "      <td>3.0</td>\n",
              "      <td>1.4</td>\n",
              "      <td>0.2</td>\n",
              "      <td>0</td>\n",
              "    </tr>\n",
              "    <tr>\n",
              "      <th>2</th>\n",
              "      <td>3</td>\n",
              "      <td>4.7</td>\n",
              "      <td>3.2</td>\n",
              "      <td>1.3</td>\n",
              "      <td>0.2</td>\n",
              "      <td>0</td>\n",
              "    </tr>\n",
              "    <tr>\n",
              "      <th>3</th>\n",
              "      <td>4</td>\n",
              "      <td>4.6</td>\n",
              "      <td>3.1</td>\n",
              "      <td>1.5</td>\n",
              "      <td>0.2</td>\n",
              "      <td>0</td>\n",
              "    </tr>\n",
              "    <tr>\n",
              "      <th>4</th>\n",
              "      <td>5</td>\n",
              "      <td>5.0</td>\n",
              "      <td>3.6</td>\n",
              "      <td>1.4</td>\n",
              "      <td>0.2</td>\n",
              "      <td>0</td>\n",
              "    </tr>\n",
              "  </tbody>\n",
              "</table>\n",
              "</div>\n",
              "      <button class=\"colab-df-convert\" onclick=\"convertToInteractive('df-c82b4875-2a4f-4fb7-9f10-3c3dd37c4cde')\"\n",
              "              title=\"Convert this dataframe to an interactive table.\"\n",
              "              style=\"display:none;\">\n",
              "        \n",
              "  <svg xmlns=\"http://www.w3.org/2000/svg\" height=\"24px\"viewBox=\"0 0 24 24\"\n",
              "       width=\"24px\">\n",
              "    <path d=\"M0 0h24v24H0V0z\" fill=\"none\"/>\n",
              "    <path d=\"M18.56 5.44l.94 2.06.94-2.06 2.06-.94-2.06-.94-.94-2.06-.94 2.06-2.06.94zm-11 1L8.5 8.5l.94-2.06 2.06-.94-2.06-.94L8.5 2.5l-.94 2.06-2.06.94zm10 10l.94 2.06.94-2.06 2.06-.94-2.06-.94-.94-2.06-.94 2.06-2.06.94z\"/><path d=\"M17.41 7.96l-1.37-1.37c-.4-.4-.92-.59-1.43-.59-.52 0-1.04.2-1.43.59L10.3 9.45l-7.72 7.72c-.78.78-.78 2.05 0 2.83L4 21.41c.39.39.9.59 1.41.59.51 0 1.02-.2 1.41-.59l7.78-7.78 2.81-2.81c.8-.78.8-2.07 0-2.86zM5.41 20L4 18.59l7.72-7.72 1.47 1.35L5.41 20z\"/>\n",
              "  </svg>\n",
              "      </button>\n",
              "      \n",
              "  <style>\n",
              "    .colab-df-container {\n",
              "      display:flex;\n",
              "      flex-wrap:wrap;\n",
              "      gap: 12px;\n",
              "    }\n",
              "\n",
              "    .colab-df-convert {\n",
              "      background-color: #E8F0FE;\n",
              "      border: none;\n",
              "      border-radius: 50%;\n",
              "      cursor: pointer;\n",
              "      display: none;\n",
              "      fill: #1967D2;\n",
              "      height: 32px;\n",
              "      padding: 0 0 0 0;\n",
              "      width: 32px;\n",
              "    }\n",
              "\n",
              "    .colab-df-convert:hover {\n",
              "      background-color: #E2EBFA;\n",
              "      box-shadow: 0px 1px 2px rgba(60, 64, 67, 0.3), 0px 1px 3px 1px rgba(60, 64, 67, 0.15);\n",
              "      fill: #174EA6;\n",
              "    }\n",
              "\n",
              "    [theme=dark] .colab-df-convert {\n",
              "      background-color: #3B4455;\n",
              "      fill: #D2E3FC;\n",
              "    }\n",
              "\n",
              "    [theme=dark] .colab-df-convert:hover {\n",
              "      background-color: #434B5C;\n",
              "      box-shadow: 0px 1px 3px 1px rgba(0, 0, 0, 0.15);\n",
              "      filter: drop-shadow(0px 1px 2px rgba(0, 0, 0, 0.3));\n",
              "      fill: #FFFFFF;\n",
              "    }\n",
              "  </style>\n",
              "\n",
              "      <script>\n",
              "        const buttonEl =\n",
              "          document.querySelector('#df-c82b4875-2a4f-4fb7-9f10-3c3dd37c4cde button.colab-df-convert');\n",
              "        buttonEl.style.display =\n",
              "          google.colab.kernel.accessAllowed ? 'block' : 'none';\n",
              "\n",
              "        async function convertToInteractive(key) {\n",
              "          const element = document.querySelector('#df-c82b4875-2a4f-4fb7-9f10-3c3dd37c4cde');\n",
              "          const dataTable =\n",
              "            await google.colab.kernel.invokeFunction('convertToInteractive',\n",
              "                                                     [key], {});\n",
              "          if (!dataTable) return;\n",
              "\n",
              "          const docLinkHtml = 'Like what you see? Visit the ' +\n",
              "            '<a target=\"_blank\" href=https://colab.research.google.com/notebooks/data_table.ipynb>data table notebook</a>'\n",
              "            + ' to learn more about interactive tables.';\n",
              "          element.innerHTML = '';\n",
              "          dataTable['output_type'] = 'display_data';\n",
              "          await google.colab.output.renderOutput(dataTable, element);\n",
              "          const docLink = document.createElement('div');\n",
              "          docLink.innerHTML = docLinkHtml;\n",
              "          element.appendChild(docLink);\n",
              "        }\n",
              "      </script>\n",
              "    </div>\n",
              "  </div>\n",
              "  "
            ]
          },
          "metadata": {},
          "execution_count": 2
        }
      ]
    },
    {
      "cell_type": "code",
      "source": [
        "df.info()"
      ],
      "metadata": {
        "colab": {
          "base_uri": "https://localhost:8080/"
        },
        "id": "inkEX8_ZHgPe",
        "outputId": "54133f4b-714e-4764-9866-689c68ad5577"
      },
      "execution_count": 3,
      "outputs": [
        {
          "output_type": "stream",
          "name": "stdout",
          "text": [
            "<class 'pandas.core.frame.DataFrame'>\n",
            "RangeIndex: 150 entries, 0 to 149\n",
            "Data columns (total 6 columns):\n",
            " #   Column         Non-Null Count  Dtype  \n",
            "---  ------         --------------  -----  \n",
            " 0   Id             150 non-null    int64  \n",
            " 1   SepalLengthCm  150 non-null    float64\n",
            " 2   SepalWidthCm   150 non-null    float64\n",
            " 3   PetalLengthCm  150 non-null    float64\n",
            " 4   PetalWidthCm   150 non-null    float64\n",
            " 5   Species        150 non-null    int64  \n",
            "dtypes: float64(4), int64(2)\n",
            "memory usage: 7.2 KB\n"
          ]
        }
      ]
    },
    {
      "cell_type": "markdown",
      "source": [
        "Как видно выше, пустые значения отсутствуют. Species - целевая переменная, SepalLengthCm, SepalWidthCm, PetalLengthCm, PetalWidthCm - атрибуты."
      ],
      "metadata": {
        "id": "RkMejkOnHlGI"
      }
    },
    {
      "cell_type": "markdown",
      "source": [
        "Значения Species (Вид цветка) заранее закодированы для дальнейшей обработки. Взглянем на ее уникальные значения: "
      ],
      "metadata": {
        "id": "nwr8Qs7ITNYT"
      }
    },
    {
      "cell_type": "code",
      "source": [
        "df.Species.unique()"
      ],
      "metadata": {
        "colab": {
          "base_uri": "https://localhost:8080/"
        },
        "id": "lSMUnFGQS6xm",
        "outputId": "46463bbf-8725-46d4-9229-22d8c45bec9f"
      },
      "execution_count": 4,
      "outputs": [
        {
          "output_type": "execute_result",
          "data": {
            "text/plain": [
              "array([0, 1, 2])"
            ]
          },
          "metadata": {},
          "execution_count": 4
        }
      ]
    },
    {
      "cell_type": "markdown",
      "source": [
        "Числовым значениям соответствуют следующие виды цветов: \n",
        "* 0 - Setosa\n",
        "* 1 - Versicolor\n",
        "* 2 - Virginica"
      ],
      "metadata": {
        "id": "tCRAa4peUcfr"
      }
    },
    {
      "cell_type": "markdown",
      "source": [
        "Далее, мы убираем ненужные признаки - id:\n",
        "* axis=1 - убираем всю колонку целиком;\n",
        "* inplace=True - производим изменения в df, не создавая новый объект."
      ],
      "metadata": {
        "id": "IV7vdrddKLi7"
      }
    },
    {
      "cell_type": "code",
      "source": [
        "df.drop('Id',axis=1,inplace=True) "
      ],
      "metadata": {
        "id": "rthg3bH4JUBB"
      },
      "execution_count": 5,
      "outputs": []
    },
    {
      "cell_type": "code",
      "source": [
        "df.shape"
      ],
      "metadata": {
        "colab": {
          "base_uri": "https://localhost:8080/"
        },
        "id": "FVUdjb_ywPJR",
        "outputId": "4c0f3230-c69a-482d-fc23-962a6eb85af9"
      },
      "execution_count": 6,
      "outputs": [
        {
          "output_type": "execute_result",
          "data": {
            "text/plain": [
              "(150, 5)"
            ]
          },
          "metadata": {},
          "execution_count": 6
        }
      ]
    },
    {
      "cell_type": "markdown",
      "source": [
        "# Разведочный анализ"
      ],
      "metadata": {
        "id": "RF8-TOyVKh7s"
      }
    },
    {
      "cell_type": "markdown",
      "source": [
        "## Таргет"
      ],
      "metadata": {
        "id": "ZdLquM8ur4zj"
      }
    },
    {
      "cell_type": "markdown",
      "source": [
        "Оценим распределение целевой переменной на предмет перекоса значений"
      ],
      "metadata": {
        "id": "XU1Fsezbs1Sk"
      }
    },
    {
      "cell_type": "code",
      "source": [
        "# нормирование на размер датасета\n",
        "norm_target = (df\n",
        "               .Species\n",
        "               .value_counts(normalize=True)\n",
        "               .mul(100)\n",
        "               .rename('percent')\n",
        "               .reset_index())\n",
        "\n",
        "plt.figure(figsize=(15, 7))\n",
        "ax = sns.barplot(x='index', y='percent', data=norm_target)\n",
        "\n",
        "# Вывод значений над графиками - annotate()\n",
        "# В цикле смотрим каждый столбец графика и на нем отмечаем значения\n",
        "for p in ax.patches:\n",
        "    percentage = '{:.1f}%'.format(p.get_height())\n",
        "    ax.annotate(percentage,  # текст\n",
        "                (p.get_x() + p.get_width() / 2., p.get_height()),  # координата xy\n",
        "                ha='center', # центрирование\n",
        "                va='center',\n",
        "                xytext=(0, 10),\n",
        "                textcoords='offset points', # точка смещения относительно координаты\n",
        "                fontsize=14)\n",
        "\n",
        "plt.title('Approved', fontsize=20)\n",
        "\n",
        "plt.xlabel('approved', fontsize=14)\n",
        "plt.ylabel('Проценты', fontsize=14)\n",
        "\n",
        "plt.xticks(fontsize=14)\n",
        "plt.yticks(fontsize=14);"
      ],
      "metadata": {
        "colab": {
          "base_uri": "https://localhost:8080/",
          "height": 471
        },
        "id": "JRInH9hnr7hM",
        "outputId": "059f020c-5fed-4906-f7e2-5e9273febf85"
      },
      "execution_count": 7,
      "outputs": [
        {
          "output_type": "display_data",
          "data": {
            "text/plain": [
              "<Figure size 1080x504 with 1 Axes>"
            ],
            "image/png": "[encoded data removed]"
          },
          "metadata": {
            "needs_background": "light"
          }
        }
      ]
    },
    {
      "cell_type": "markdown",
      "source": [
        "## Отношение длины к ширине"
      ],
      "metadata": {
        "id": "SRRB6osvZISp"
      }
    },
    {
      "cell_type": "code",
      "source": [
        "fig = df[df.Species==0].plot(kind='scatter',x='SepalLengthCm',y='SepalWidthCm',color='orange', label='Setosa')\n",
        "df[df.Species==1].plot(kind='scatter',x='SepalLengthCm',y='SepalWidthCm',color='blue', label='Versicolor',ax=fig)\n",
        "df[df.Species==2].plot(kind='scatter',x='SepalLengthCm',y='SepalWidthCm',color='green', label='Virginica', ax=fig)\n",
        "fig.set_xlabel(\"Sepal Length\")\n",
        "fig.set_ylabel(\"Sepal Width\")\n",
        "fig.set_title(\"Sepal Length VS Width\")\n",
        "fig=plt.gcf()\n",
        "fig.set_size_inches(10,6)\n",
        "plt.show()\n"
      ],
      "metadata": {
        "id": "hX6vvo4tS1c0",
        "colab": {
          "base_uri": "https://localhost:8080/",
          "height": 404
        },
        "outputId": "68d52ec1-26ae-46ed-df23-dcf6cb69d69c"
      },
      "execution_count": 8,
      "outputs": [
        {
          "output_type": "display_data",
          "data": {
            "text/plain": [
              "<Figure size 720x432 with 1 Axes>"
            ],
            "image/png": "[encoded data removed]"
          },
          "metadata": {
            "needs_background": "light"
          }
        }
      ]
    },
    {
      "cell_type": "markdown",
      "source": [
        "График показывает отношение между длиной и шириной чашелистика цветка. Setosa показывает лучшее групповое разделение, чем две другие разновидности. Посмотрим на отношение между длиной и шириной у лепестков. "
      ],
      "metadata": {
        "id": "BXirnPc9XR2s"
      }
    },
    {
      "cell_type": "code",
      "source": [
        "fig = df[df.Species==0].plot(kind='scatter',x='PetalLengthCm',y='PetalWidthCm',color='orange', label='Setosa')\n",
        "df[df.Species==1].plot(kind='scatter',x='PetalLengthCm',y='PetalWidthCm',color='blue', label='Versicolor',ax=fig)\n",
        "df[df.Species==2].plot(kind='scatter',x='PetalLengthCm',y='PetalWidthCm',color='green', label='Virginica', ax=fig)\n",
        "fig.set_xlabel(\"Petal Length\")\n",
        "fig.set_ylabel(\"Petal Width\")\n",
        "fig.set_title(\"Petal Length VS Width\")\n",
        "fig=plt.gcf()\n",
        "fig.set_size_inches(10,6)\n",
        "plt.show()"
      ],
      "metadata": {
        "colab": {
          "base_uri": "https://localhost:8080/",
          "height": 404
        },
        "id": "cP6cN-QtX9jn",
        "outputId": "e7d1a74c-7065-4e68-95d4-0e54e240b617"
      },
      "execution_count": 9,
      "outputs": [
        {
          "output_type": "display_data",
          "data": {
            "text/plain": [
              "<Figure size 720x432 with 1 Axes>"
            ],
            "image/png": "[encoded data removed]"
          },
          "metadata": {
            "needs_background": "light"
          }
        }
      ]
    },
    {
      "cell_type": "markdown",
      "source": [
        "Для признаков лепестка наблюдается более лучшее групповое разделение в сравнении с чашелистиком. Это говорит о том, что за счет признаков лепестка можно сформировать более точный прогноз по сравнению с признаками чашелистика."
      ],
      "metadata": {
        "id": "_K7VmcJ4YMQS"
      }
    },
    {
      "cell_type": "markdown",
      "source": [
        "## Распределение длины и ширины"
      ],
      "metadata": {
        "id": "gmdw77v9ZMmu"
      }
    },
    {
      "cell_type": "markdown",
      "source": [
        "Взглянем на то, как распределены длина и ширина у листков и чашелистиков."
      ],
      "metadata": {
        "id": "xZ4fjhyFbff1"
      }
    },
    {
      "cell_type": "code",
      "source": [
        "df[['SepalLengthCm', 'SepalWidthCm', 'PetalLengthCm', 'PetalWidthCm']].hist(edgecolor='black', linewidth=1.2)\n",
        "fig=plt.gcf()\n",
        "fig.set_size_inches(16,8)\n",
        "plt.show()"
      ],
      "metadata": {
        "colab": {
          "base_uri": "https://localhost:8080/",
          "height": 499
        },
        "id": "vQyWSLHXZRG7",
        "outputId": "b76778c4-1042-42fa-f636-9eb58a86d44b"
      },
      "execution_count": 10,
      "outputs": [
        {
          "output_type": "display_data",
          "data": {
            "text/plain": [
              "<Figure size 1152x576 with 4 Axes>"
            ],
            "image/png": "[encoded data removed]"
          },
          "metadata": {
            "needs_background": "light"
          }
        }
      ]
    },
    {
      "cell_type": "markdown",
      "source": [
        "Оценим как длина и ширина варьируются в зависимости от вида"
      ],
      "metadata": {
        "id": "FFx2S3oHbsV8"
      }
    },
    {
      "cell_type": "code",
      "source": [
        "plt.figure(figsize=(15,10))\n",
        "plt.subplot(2,2,1)\n",
        "sns.violinplot(x='Species',y='SepalLengthCm',data=df)\n",
        "plt.subplot(2,2,2)\n",
        "sns.violinplot(x='Species',y='SepalWidthCm',data=df)\n",
        "plt.subplot(2,2,3)\n",
        "sns.violinplot(x='Species',y='PetalLengthCm',data=df)\n",
        "plt.subplot(2,2,4)\n",
        "sns.violinplot(x='Species',y='PetalWidthCm',data=df)"
      ],
      "metadata": {
        "colab": {
          "base_uri": "https://localhost:8080/",
          "height": 623
        },
        "id": "6bPxeIfabsg6",
        "outputId": "5549830e-5f8c-4dfe-98f9-4baf9da021b9"
      },
      "execution_count": 11,
      "outputs": [
        {
          "output_type": "execute_result",
          "data": {
            "text/plain": [
              "<matplotlib.axes._subplots.AxesSubplot at 0x7f9d99fdffd0>"
            ]
          },
          "metadata": {},
          "execution_count": 11
        },
        {
          "output_type": "display_data",
          "data": {
            "text/plain": [
              "<Figure size 1080x720 with 4 Axes>"
            ],
            "image/png": "[encoded data removed]"
          },
          "metadata": {
            "needs_background": "light"
          }
        }
      ]
    },
    {
      "cell_type": "markdown",
      "source": [
        "График показывает плотность распределения длины и ширины у вариаций цветков. Чем шире \"скрипка\" - тем плотнее распределены значения, чем уже - тем менее плотное распределение."
      ],
      "metadata": {
        "id": "XlSsbhkJqqU7"
      }
    },
    {
      "cell_type": "markdown",
      "source": [
        "# Обучение модели"
      ],
      "metadata": {
        "id": "i2F40cpQt4w-"
      }
    },
    {
      "cell_type": "markdown",
      "source": [
        "Импортируем необходимые библиотеки для различных алгоритмов классификации"
      ],
      "metadata": {
        "id": "Kfdyk26ut_tW"
      }
    },
    {
      "cell_type": "code",
      "source": [
        "from sklearn.linear_model import LogisticRegression  # Для реализации алгоритма  логистической регрессии\n",
        "from sklearn.model_selection import train_test_split # Для разбиения датасета на train и test\n",
        "from sklearn.neighbors import KNeighborsClassifier # Алгоритм K ближайших соседей\n",
        "from sklearn import svm  # Для реализации алгоритма  Метод Опорных Векторов (Support Vector Method)\n",
        "from sklearn import metrics # Для проверки точности модели\n",
        "from sklearn.tree import DecisionTreeClassifier # Для реализации алгоритма Деревья решений "
      ],
      "metadata": {
        "id": "QDTvT5eft7ey"
      },
      "execution_count": 12,
      "outputs": []
    },
    {
      "cell_type": "markdown",
      "source": [
        "## Оценка корреляции"
      ],
      "metadata": {
        "id": "RGMJl_oqxpwI"
      }
    },
    {
      "cell_type": "markdown",
      "source": [
        "Точность модели может быть снижена ввиду корреляции признаков. Оценим степень корреляции с помощью тепловой карты"
      ],
      "metadata": {
        "id": "h0DxvgjLwddN"
      }
    },
    {
      "cell_type": "code",
      "source": [
        "plt.figure(figsize=(8,4))\n",
        "# матрица корреляции \n",
        "sns.heatmap(df[['SepalLengthCm', 'SepalWidthCm', 'PetalLengthCm', 'PetalWidthCm']].\n",
        "            corr(),annot=True,cmap='cubehelix_r')\n",
        "plt.show()\n"
      ],
      "metadata": {
        "colab": {
          "base_uri": "https://localhost:8080/",
          "height": 269
        },
        "id": "ZShSUAtKwp0z",
        "outputId": "981ce821-b988-4a63-aa9f-8e2a0fb25899"
      },
      "execution_count": 13,
      "outputs": [
        {
          "output_type": "display_data",
          "data": {
            "text/plain": [
              "<Figure size 576x288 with 2 Axes>"
            ],
            "image/png": "[encoded data removed]"
          },
          "metadata": {
            "needs_background": "light"
          }
        }
      ]
    },
    {
      "cell_type": "markdown",
      "source": [
        "Как видно из матрицы ширина и длина чашелистика не коррелированы, а длина и ширина лепестка - имеют высокую степень корреляции."
      ],
      "metadata": {
        "id": "axrCT4ypxI_f"
      }
    },
    {
      "cell_type": "markdown",
      "source": [
        "## Разделение датасета на тренирующую и тестировочную часть"
      ],
      "metadata": {
        "id": "ICFVJ1Le8yFf"
      }
    },
    {
      "cell_type": "markdown",
      "source": [
        "Ниже представлено разделение датасета на тренирующую и тестировочную части, атрибут test_size=0.3 отвечает за разделение датасета на составляющие: 30% - test, 70% - train."
      ],
      "metadata": {
        "id": "JZ5nbyue9Ps4"
      }
    },
    {
      "cell_type": "code",
      "source": [
        "train, test = train_test_split(df, test_size=0.3)"
      ],
      "metadata": {
        "id": "fVUcxoZX9FAB"
      },
      "execution_count": 14,
      "outputs": []
    },
    {
      "cell_type": "markdown",
      "source": [
        "Проверим корректность разбиения датасета:"
      ],
      "metadata": {
        "id": "zi0CTN-RAXMg"
      }
    },
    {
      "cell_type": "code",
      "source": [
        "train.info()"
      ],
      "metadata": {
        "colab": {
          "base_uri": "https://localhost:8080/"
        },
        "id": "xB31mn06A-S4",
        "outputId": "71ff165b-f901-4db0-877b-954600bf2448"
      },
      "execution_count": 15,
      "outputs": [
        {
          "output_type": "stream",
          "name": "stdout",
          "text": [
            "<class 'pandas.core.frame.DataFrame'>\n",
            "Int64Index: 105 entries, 137 to 32\n",
            "Data columns (total 5 columns):\n",
            " #   Column         Non-Null Count  Dtype  \n",
            "---  ------         --------------  -----  \n",
            " 0   SepalLengthCm  105 non-null    float64\n",
            " 1   SepalWidthCm   105 non-null    float64\n",
            " 2   PetalLengthCm  105 non-null    float64\n",
            " 3   PetalWidthCm   105 non-null    float64\n",
            " 4   Species        105 non-null    int64  \n",
            "dtypes: float64(4), int64(1)\n",
            "memory usage: 4.9 KB\n"
          ]
        }
      ]
    },
    {
      "cell_type": "code",
      "source": [
        "train.shape"
      ],
      "metadata": {
        "colab": {
          "base_uri": "https://localhost:8080/"
        },
        "id": "BoZP-vuwAHlR",
        "outputId": "e3507053-f86f-4763-9b7e-36e6392412e5"
      },
      "execution_count": 16,
      "outputs": [
        {
          "output_type": "execute_result",
          "data": {
            "text/plain": [
              "(105, 5)"
            ]
          },
          "metadata": {},
          "execution_count": 16
        }
      ]
    },
    {
      "cell_type": "code",
      "source": [
        "test.shape"
      ],
      "metadata": {
        "colab": {
          "base_uri": "https://localhost:8080/"
        },
        "id": "SPWcUeBkANIa",
        "outputId": "1c26d1d3-f9fa-4191-cd47-1bec39a28c28"
      },
      "execution_count": 17,
      "outputs": [
        {
          "output_type": "execute_result",
          "data": {
            "text/plain": [
              "(45, 5)"
            ]
          },
          "metadata": {},
          "execution_count": 17
        }
      ]
    },
    {
      "cell_type": "markdown",
      "source": [
        "Создадим переменные, куда будут помещены признаки и целевая переменная для обучающей выборки тестировочной:"
      ],
      "metadata": {
        "id": "j4nsRGTtAb1r"
      }
    },
    {
      "cell_type": "code",
      "source": [
        "train_X = train[['SepalLengthCm', 'SepalWidthCm', 'PetalLengthCm', 'PetalWidthCm']]\n",
        "train_Y = train.Species\n",
        "test_X = test[['SepalLengthCm', 'SepalWidthCm', 'PetalLengthCm', 'PetalWidthCm']]\n",
        "test_Y = test.Species"
      ],
      "metadata": {
        "id": "k7VJHfuNA4l8"
      },
      "execution_count": 18,
      "outputs": []
    },
    {
      "cell_type": "markdown",
      "source": [
        "## Совместное использование признаков при обучении и тестрированни моделей"
      ],
      "metadata": {
        "id": "5TIHF1Y6HNfg"
      }
    },
    {
      "cell_type": "markdown",
      "source": [
        "### Метод Опорных Векторов (Support Vector Method)"
      ],
      "metadata": {
        "id": "utmLwShYBtzK"
      }
    },
    {
      "cell_type": "code",
      "source": [
        "# Создание объекта алгоритма\n",
        "model = svm.SVC()\n",
        "# Обучение алгоритма на тренировочных данных \n",
        "model.fit(train_X, train_Y)\n",
        "# Обработка тестировочных данных через обученный алгоритм\n",
        "prediction = model.predict(test_X)\n",
        "print('The accuracy of the SVM is', metrics.accuracy_score(prediction, test_Y))"
      ],
      "metadata": {
        "colab": {
          "base_uri": "https://localhost:8080/"
        },
        "id": "wB9kdyvhBvuS",
        "outputId": "65c9a410-5002-4f44-f2f7-99801cd5988d"
      },
      "execution_count": 19,
      "outputs": [
        {
          "output_type": "stream",
          "name": "stdout",
          "text": [
            "The accuracy of the SVM is 0.9777777777777777\n"
          ]
        }
      ]
    },
    {
      "cell_type": "markdown",
      "source": [
        "### Логистическая регрессия"
      ],
      "metadata": {
        "id": "a6lShgYWC0gh"
      }
    },
    {
      "cell_type": "code",
      "source": [
        "# Создание объекта алгоритма\n",
        "model = LogisticRegression()\n",
        "# Обучение алгоритма на тренировочных данных\n",
        "model.fit(train_X, train_Y)\n",
        "# Обработка тестировочных данных через обученный алгоритм\n",
        "prediction = model.predict(test_X)\n",
        "print('The accuracy of the Logistic Regression is', metrics.accuracy_score(prediction, test_Y))"
      ],
      "metadata": {
        "colab": {
          "base_uri": "https://localhost:8080/"
        },
        "id": "PhG-wqJXC03R",
        "outputId": "dc714340-6563-46a3-d10e-9ccb49856e99"
      },
      "execution_count": 20,
      "outputs": [
        {
          "output_type": "stream",
          "name": "stdout",
          "text": [
            "The accuracy of the Logistic Regression is 1.0\n"
          ]
        }
      ]
    },
    {
      "cell_type": "markdown",
      "source": [
        "### Деревья решений"
      ],
      "metadata": {
        "id": "bW1N0pgpDmWA"
      }
    },
    {
      "cell_type": "code",
      "source": [
        "# Создание объекта алгоритма\n",
        "model = DecisionTreeClassifier()\n",
        "# Обучение алгоритма на тренировочных данных\n",
        "model.fit(train_X, train_Y)\n",
        "# Обработка тестировочных данных через обученный алгоритм\n",
        "prediction = model.predict(test_X)\n",
        "print('The accuracy of the Decision Tree is', metrics.accuracy_score(prediction, test_Y))"
      ],
      "metadata": {
        "colab": {
          "base_uri": "https://localhost:8080/"
        },
        "id": "WRGbAJ5FDpDG",
        "outputId": "7b91c061-eafd-4a27-8c7d-ba5d09ece563"
      },
      "execution_count": 21,
      "outputs": [
        {
          "output_type": "stream",
          "name": "stdout",
          "text": [
            "The accuracy of the Decision Tree is 0.9555555555555556\n"
          ]
        }
      ]
    },
    {
      "cell_type": "markdown",
      "source": [
        "### K-ближайших соседей"
      ],
      "metadata": {
        "id": "2RkzU2ESD4gw"
      }
    },
    {
      "cell_type": "code",
      "source": [
        "# Создание объекта алгоритма\n",
        "model = KNeighborsClassifier(n_neighbors=6)\n",
        "# Обучение алгоритма на тренировочных данных\n",
        "model.fit(train_X, train_Y)\n",
        "# Обработка тестировочных данных через обученный алгоритм\n",
        "prediction = model.predict(test_X)\n",
        "print('The accuracy of the Decision Tree is', metrics.accuracy_score(prediction, test_Y))"
      ],
      "metadata": {
        "colab": {
          "base_uri": "https://localhost:8080/"
        },
        "id": "XeKXCLHrD8XV",
        "outputId": "ecaa7c79-9726-4a73-8bdd-cec4ab3976f3"
      },
      "execution_count": 22,
      "outputs": [
        {
          "output_type": "stream",
          "name": "stdout",
          "text": [
            "The accuracy of the Decision Tree is 1.0\n"
          ]
        }
      ]
    },
    {
      "cell_type": "markdown",
      "source": [
        "Оценим влияние изменение значения параметра n_neighbors ( количество соседей для помещения данных в новый класс) на точность работы алгоритма"
      ],
      "metadata": {
        "id": "2p5uxEHWF1Ad"
      }
    },
    {
      "cell_type": "code",
      "source": [
        "a_index=list(range(1,11))\n",
        "a=pd.Series()\n",
        "x=[1,2,3,4,5,6,7,8,9,10]\n",
        "for i in a_index:\n",
        "    model=KNeighborsClassifier(n_neighbors=i) \n",
        "    model.fit(train_X,train_Y)\n",
        "    prediction=model.predict(test_X)\n",
        "    a=a.append(pd.Series(metrics.accuracy_score(prediction,test_Y)))\n",
        "plt.plot(a_index, a)\n",
        "plt.xticks(x)"
      ],
      "metadata": {
        "colab": {
          "base_uri": "https://localhost:8080/",
          "height": 491
        },
        "id": "cxpBSxwVFAoN",
        "outputId": "f4f371fe-cdf2-4425-e6a5-a7b0ff0ff712"
      },
      "execution_count": 23,
      "outputs": [
        {
          "output_type": "stream",
          "name": "stderr",
          "text": [
            "/usr/local/lib/python3.7/dist-packages/ipykernel_launcher.py:2: DeprecationWarning: The default dtype for empty Series will be 'object' instead of 'float64' in a future version. Specify a dtype explicitly to silence this warning.\n",
            "  \n"
          ]
        },
        {
          "output_type": "execute_result",
          "data": {
            "text/plain": [
              "([<matplotlib.axis.XTick at 0x7f9d9a346c10>,\n",
              "  <matplotlib.axis.XTick at 0x7f9d9a346c90>,\n",
              "  <matplotlib.axis.XTick at 0x7f9d9a346550>,\n",
              "  <matplotlib.axis.XTick at 0x7f9d9a373b10>,\n",
              "  <matplotlib.axis.XTick at 0x7f9d9aa0f2d0>,\n",
              "  <matplotlib.axis.XTick at 0x7f9d9a316190>,\n",
              "  <matplotlib.axis.XTick at 0x7f9d9a952350>,\n",
              "  <matplotlib.axis.XTick at 0x7f9d9a389c90>,\n",
              "  <matplotlib.axis.XTick at 0x7f9d9a491d90>,\n",
              "  <matplotlib.axis.XTick at 0x7f9d9a381c10>],\n",
              " <a list of 10 Text major ticklabel objects>)"
            ]
          },
          "metadata": {},
          "execution_count": 23
        },
        {
          "output_type": "display_data",
          "data": {
            "text/plain": [
              "<Figure size 432x288 with 1 Axes>"
            ],
            "image/png": "[encoded data removed]"
          },
          "metadata": {
            "needs_background": "light"
          }
        }
      ]
    },
    {
      "cell_type": "markdown",
      "source": [
        "Выше представлен график, показывающий точность модели K-ближайших соседей в зависимости от значения параметра n_neighbors"
      ],
      "metadata": {
        "id": "9ZbV6HRaGbwQ"
      }
    },
    {
      "cell_type": "markdown",
      "source": [
        "## Раздельное использование признаков при обучении и тестрированни моделей"
      ],
      "metadata": {
        "id": "4vOcTbG3G4RH"
      }
    },
    {
      "cell_type": "markdown",
      "source": [
        "Создадим отдельные датасеты для чашелистиков и лепестков"
      ],
      "metadata": {
        "id": "nfoDoa_qH1l3"
      }
    },
    {
      "cell_type": "code",
      "source": [
        "petal = df[['PetalLengthCm', 'PetalWidthCm', 'Species']]\n",
        "sepal = df[['SepalLengthCm', 'SepalWidthCm', 'Species']]"
      ],
      "metadata": {
        "id": "YuclehabH756"
      },
      "execution_count": 24,
      "outputs": []
    },
    {
      "cell_type": "markdown",
      "source": [
        "Проведем два процесса обучения для двух наборов данных"
      ],
      "metadata": {
        "id": "4PzjFU8XIXrI"
      }
    },
    {
      "cell_type": "code",
      "source": [
        "train_p, test_p = train_test_split(petal, test_size=0.3, random_state=0)\n",
        "train_X_p = train_p[['PetalLengthCm', 'PetalWidthCm']]\n",
        "train_Y_p = train_p.Species\n",
        "test_X_p = test_p[['PetalLengthCm', 'PetalWidthCm']]\n",
        "test_Y_p = test_p.Species\n",
        "\n",
        "\n",
        "train_s, test_s = train_test_split(sepal, test_size=0.3, random_state=0)\n",
        "train_X_s = train_s[['SepalLengthCm', 'SepalWidthCm']]\n",
        "train_Y_s = train_s.Species\n",
        "test_X_s = test_s[['SepalLengthCm', 'SepalWidthCm']]\n",
        "test_Y_s = test_s.Species"
      ],
      "metadata": {
        "id": "zpSdH7rIIcbd"
      },
      "execution_count": 25,
      "outputs": []
    },
    {
      "cell_type": "markdown",
      "source": [
        "### Метод Опорных Векторов (Support Vector Method)"
      ],
      "metadata": {
        "id": "xWHM9BL0RfAf"
      }
    },
    {
      "cell_type": "code",
      "source": [
        "model = svm.SVC()\n",
        "model.fit(train_X_p, train_Y_p)\n",
        "prediction = model.predict(test_X_p)\n",
        "print('The accuracy of the SVM is', metrics.accuracy_score(prediction, test_Y_p))\n",
        "\n",
        "model = svm.SVC()\n",
        "model.fit(train_X_s, train_Y_s)\n",
        "prediction = model.predict(test_X_s)\n",
        "print('The accuracy of the SVM is', metrics.accuracy_score(prediction, test_Y_s))"
      ],
      "metadata": {
        "colab": {
          "base_uri": "https://localhost:8080/"
        },
        "id": "KApXbubdRfnd",
        "outputId": "4b5c97bc-37f7-4b09-dad5-d7c4711636df"
      },
      "execution_count": 26,
      "outputs": [
        {
          "output_type": "stream",
          "name": "stdout",
          "text": [
            "The accuracy of the SVM is 0.9777777777777777\n",
            "The accuracy of the SVM is 0.8\n"
          ]
        }
      ]
    },
    {
      "cell_type": "markdown",
      "source": [
        "### Логистическая регрессия"
      ],
      "metadata": {
        "id": "UZYzwunaSLKd"
      }
    },
    {
      "cell_type": "code",
      "source": [
        "model = LogisticRegression()\n",
        "model.fit(train_X_p, train_Y_p)\n",
        "prediction = model.predict(test_X_p)\n",
        "print('The accuracy of the Logistic Regression is', metrics.accuracy_score(prediction, test_Y_p))\n",
        "\n",
        "model = LogisticRegression()\n",
        "model.fit(train_X_s, train_Y_s)\n",
        "prediction = model.predict(test_X_s)\n",
        "print('The accuracy of the Logistic Regression is', metrics.accuracy_score(prediction, test_Y_s))"
      ],
      "metadata": {
        "colab": {
          "base_uri": "https://localhost:8080/"
        },
        "id": "4k_DQ_wbSPUO",
        "outputId": "0ad0e779-8f62-4d49-d6a7-56979a509c85"
      },
      "execution_count": 27,
      "outputs": [
        {
          "output_type": "stream",
          "name": "stdout",
          "text": [
            "The accuracy of the Logistic Regression is 0.9777777777777777\n",
            "The accuracy of the Logistic Regression is 0.8222222222222222\n"
          ]
        }
      ]
    },
    {
      "cell_type": "markdown",
      "source": [
        "### Деревья решений"
      ],
      "metadata": {
        "id": "Xu3PjLVpSfAI"
      }
    },
    {
      "cell_type": "code",
      "source": [
        "model = DecisionTreeClassifier()\n",
        "model.fit(train_X_p, train_Y_p)\n",
        "prediction = model.predict(test_X_p)\n",
        "print('The accuracy of the Decision Tree is', metrics.accuracy_score(prediction, test_Y_p))\n",
        "\n",
        "model = DecisionTreeClassifier()\n",
        "model.fit(train_X_s, train_Y_s)\n",
        "prediction = model.predict(test_X_s)\n",
        "print('The accuracy of the Decision Tree is', metrics.accuracy_score(prediction, test_Y_s))"
      ],
      "metadata": {
        "colab": {
          "base_uri": "https://localhost:8080/"
        },
        "id": "LQPhigF_Sfa0",
        "outputId": "2b5cf3a0-64da-4086-e5be-66371ccb9cb9"
      },
      "execution_count": 28,
      "outputs": [
        {
          "output_type": "stream",
          "name": "stdout",
          "text": [
            "The accuracy of the Decision Tree is 0.9555555555555556\n",
            "The accuracy of the Decision Tree is 0.6444444444444445\n"
          ]
        }
      ]
    },
    {
      "cell_type": "markdown",
      "source": [
        "### K-ближайших соседей"
      ],
      "metadata": {
        "id": "WwQrcYBoS_CN"
      }
    },
    {
      "cell_type": "code",
      "source": [
        "model = KNeighborsClassifier(n_neighbors=3)\n",
        "model.fit(train_X_p, train_Y_p)\n",
        "prediction = model.predict(test_X_p)\n",
        "print('The accuracy of the KNN is', metrics.accuracy_score(prediction, test_Y_p))\n",
        "\n",
        "model = KNeighborsClassifier(n_neighbors=3)\n",
        "model.fit(train_X_s, train_Y_s)\n",
        "prediction = model.predict(test_X_s)\n",
        "print('The accuracy of the KNN is', metrics.accuracy_score(prediction, test_Y_s))"
      ],
      "metadata": {
        "colab": {
          "base_uri": "https://localhost:8080/"
        },
        "id": "yyW7D-2KS_Sa",
        "outputId": "8010b47c-b4ee-4b2c-9c8a-77c7b5e7548e"
      },
      "execution_count": 29,
      "outputs": [
        {
          "output_type": "stream",
          "name": "stdout",
          "text": [
            "The accuracy of the KNN is 0.9777777777777777\n",
            "The accuracy of the KNN is 0.7333333333333333\n"
          ]
        }
      ]
    },
    {
      "cell_type": "code",
      "source": [
        "a_index=list(range(1,11))\n",
        "a=pd.Series()\n",
        "x=[1,2,3,4,5,6,7,8,9,10]\n",
        "for i in a_index:\n",
        "    model = KNeighborsClassifier(n_neighbors=i)\n",
        "    model.fit(train_X_p, train_Y_p)\n",
        "    prediction = model.predict(test_X_p)\n",
        "    print('The accuracy of the KNN is', metrics.accuracy_score(prediction, test_Y_p))\n",
        "    a=a.append(pd.Series(metrics.accuracy_score(prediction,test_Y_p)))\n",
        "plt.plot(a_index, a)\n",
        "plt.xticks(x)"
      ],
      "metadata": {
        "colab": {
          "base_uri": "https://localhost:8080/",
          "height": 664
        },
        "id": "zSXn8LBhTWDC",
        "outputId": "acd757d1-fc97-4af7-e31a-11ff7850fb9f"
      },
      "execution_count": 30,
      "outputs": [
        {
          "output_type": "stream",
          "name": "stdout",
          "text": [
            "The accuracy of the KNN is 0.9555555555555556\n",
            "The accuracy of the KNN is 0.9555555555555556\n",
            "The accuracy of the KNN is 0.9777777777777777\n",
            "The accuracy of the KNN is 0.9555555555555556\n",
            "The accuracy of the KNN is 0.9777777777777777\n",
            "The accuracy of the KNN is 0.9777777777777777\n",
            "The accuracy of the KNN is 0.9777777777777777\n",
            "The accuracy of the KNN is 0.9777777777777777\n",
            "The accuracy of the KNN is 0.9777777777777777\n",
            "The accuracy of the KNN is 0.9777777777777777\n"
          ]
        },
        {
          "output_type": "stream",
          "name": "stderr",
          "text": [
            "/usr/local/lib/python3.7/dist-packages/ipykernel_launcher.py:2: DeprecationWarning: The default dtype for empty Series will be 'object' instead of 'float64' in a future version. Specify a dtype explicitly to silence this warning.\n",
            "  \n"
          ]
        },
        {
          "output_type": "execute_result",
          "data": {
            "text/plain": [
              "([<matplotlib.axis.XTick at 0x7f9d9a3d4ed0>,\n",
              "  <matplotlib.axis.XTick at 0x7f9d9a3bbe90>,\n",
              "  <matplotlib.axis.XTick at 0x7f9d9a3bb1d0>,\n",
              "  <matplotlib.axis.XTick at 0x7f9d9a3fd410>,\n",
              "  <matplotlib.axis.XTick at 0x7f9d9a3fda10>,\n",
              "  <matplotlib.axis.XTick at 0x7f9d9a3fdf10>,\n",
              "  <matplotlib.axis.XTick at 0x7f9d94db9410>,\n",
              "  <matplotlib.axis.XTick at 0x7f9d94db9950>,\n",
              "  <matplotlib.axis.XTick at 0x7f9d94db9e90>,\n",
              "  <matplotlib.axis.XTick at 0x7f9d94dbf410>],\n",
              " <a list of 10 Text major ticklabel objects>)"
            ]
          },
          "metadata": {},
          "execution_count": 30
        },
        {
          "output_type": "display_data",
          "data": {
            "text/plain": [
              "<Figure size 432x288 with 1 Axes>"
            ],
            "image/png": "[encoded data removed]"
          },
          "metadata": {
            "needs_background": "light"
          }
        }
      ]
    },
    {
      "cell_type": "code",
      "source": [
        "b_index=list(range(1,11))\n",
        "b=pd.Series()\n",
        "x=[1,2,3,4,5,6,7,8,9,10]\n",
        "for i in b_index:\n",
        "    model = KNeighborsClassifier(n_neighbors=i)\n",
        "    model.fit(train_X_s, train_Y_s)\n",
        "    prediction = model.predict(test_X_s)\n",
        "    print('The accuracy of the KNN is', metrics.accuracy_score(prediction, test_Y_s))\n",
        "    b=b.append(pd.Series(metrics.accuracy_score(prediction,test_Y_s)))\n",
        "plt.plot(b_index, b)\n",
        "plt.xticks(x)"
      ],
      "metadata": {
        "colab": {
          "base_uri": "https://localhost:8080/",
          "height": 664
        },
        "id": "LI6aY3WKThw2",
        "outputId": "f10e1694-93a0-4292-b38a-9c325817e83b"
      },
      "execution_count": 31,
      "outputs": [
        {
          "output_type": "stream",
          "name": "stdout",
          "text": [
            "The accuracy of the KNN is 0.7111111111111111\n",
            "The accuracy of the KNN is 0.7333333333333333\n",
            "The accuracy of the KNN is 0.7333333333333333\n",
            "The accuracy of the KNN is 0.8222222222222222\n",
            "The accuracy of the KNN is 0.7333333333333333\n",
            "The accuracy of the KNN is 0.7555555555555555\n",
            "The accuracy of the KNN is 0.7333333333333333\n",
            "The accuracy of the KNN is 0.7333333333333333\n",
            "The accuracy of the KNN is 0.7333333333333333\n",
            "The accuracy of the KNN is 0.7333333333333333\n"
          ]
        },
        {
          "output_type": "stream",
          "name": "stderr",
          "text": [
            "/usr/local/lib/python3.7/dist-packages/ipykernel_launcher.py:2: DeprecationWarning: The default dtype for empty Series will be 'object' instead of 'float64' in a future version. Specify a dtype explicitly to silence this warning.\n",
            "  \n"
          ]
        },
        {
          "output_type": "execute_result",
          "data": {
            "text/plain": [
              "([<matplotlib.axis.XTick at 0x7f9d94d77450>,\n",
              "  <matplotlib.axis.XTick at 0x7f9d94d77410>,\n",
              "  <matplotlib.axis.XTick at 0x7f9d94d71b10>,\n",
              "  <matplotlib.axis.XTick at 0x7f9d94d1dc10>,\n",
              "  <matplotlib.axis.XTick at 0x7f9d94d24090>,\n",
              "  <matplotlib.axis.XTick at 0x7f9d94d1de90>,\n",
              "  <matplotlib.axis.XTick at 0x7f9d94d24950>,\n",
              "  <matplotlib.axis.XTick at 0x7f9d94d24e90>,\n",
              "  <matplotlib.axis.XTick at 0x7f9d94d2b410>,\n",
              "  <matplotlib.axis.XTick at 0x7f9d94d2b950>],\n",
              " <a list of 10 Text major ticklabel objects>)"
            ]
          },
          "metadata": {},
          "execution_count": 31
        },
        {
          "output_type": "display_data",
          "data": {
            "text/plain": [
              "<Figure size 432x288 with 1 Axes>"
            ],
            "image/png": "[encoded data removed]"
          },
          "metadata": {
            "needs_background": "light"
          }
        }
      ]
    },
    {
      "cell_type": "markdown",
      "source": [
        "# Выводы"
      ],
      "metadata": {
        "id": "KwrBWj9Sb3kg"
      }
    },
    {
      "cell_type": "markdown",
      "source": [
        "* Использование признаков, характеризующих лепесток, дает более высокое значение точности при обработке значений алгоритмами "
      ],
      "metadata": {
        "id": "8l7WzM1fb53O"
      }
    }
  ]
}